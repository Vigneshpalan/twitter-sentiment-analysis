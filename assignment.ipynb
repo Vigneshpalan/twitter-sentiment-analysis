{
 "cells": [
  {
   "cell_type": "markdown",
   "metadata": {},
   "source": [
    "Sentiment Analysis"
   ]
  },
  {
   "cell_type": "code",
   "execution_count": 3,
   "metadata": {},
   "outputs": [],
   "source": [
    "import  pandas as pd\n",
    "import matplotlib.pyplot as plt\n",
    "import seaborn as sns\n",
    "import re \n",
    "import numpy as np\n",
    "from sklearn.model_selection import train_test_split\n",
    "from sklearn.feature_extraction.text import TfidfVectorizer\n",
    "from sklearn.pipeline import Pipeline\n",
    "from sklearn.linear_model import LogisticRegression\n",
    "from sklearn.metrics import classification_report, accuracy_score\n",
    "from sklearn.utils import resample"
   ]
  },
  {
   "cell_type": "markdown",
   "metadata": {},
   "source": [
    "Dataset Loading And Prepocessing"
   ]
  },
  {
   "cell_type": "code",
   "execution_count": 4,
   "metadata": {},
   "outputs": [
    {
     "name": "stdout",
     "output_type": "stream",
     "text": [
      "polarity\n",
      "2    800182\n",
      "4    800182\n",
      "0    800177\n",
      "Name: count, dtype: int64\n",
      "1920432 480109\n",
      "2    640145\n",
      "4    640145\n",
      "0    640142\n",
      "Name: count, dtype: int64\n",
      "4    160037\n",
      "2    160037\n",
      "0    160035\n",
      "Name: count, dtype: int64\n"
     ]
    }
   ],
   "source": [
    "\n",
    "def load_data(filepath1, filepath2):\n",
    "  \n",
    "    d1 = pd.read_csv(filepath1, encoding='latin1', names=['polarity', 'id', 'date', 'query', 'user', 'text'])\n",
    "    d2 = pd.read_csv(filepath2, encoding='latin1', names=['polarity', 'id', 'date', 'query', 'user', 'text'])\n",
    "    dataset = pd.concat([d1, d2], ignore_index=True)\n",
    "\n",
    "    return dataset\n",
    "\n",
    "def clean_data(dataset):\n",
    "   \n",
    "    dataset.dropna(inplace=True)\n",
    "    dataset.drop_duplicates(inplace=True)\n",
    "    columns_to_drop = ['id', 'date', 'query', 'user']\n",
    "    dataset = dataset.drop(columns=columns_to_drop)\n",
    "\n",
    "\n",
    "    def clean_text(text):\n",
    "        text = re.sub(r'http\\S+', '', text)  \n",
    "        text = re.sub(r'@\\w+', '', text)   \n",
    "        text = re.sub(r'#\\w+', '', text)   \n",
    "        text = re.sub(r'[^A-Za-z0-9\\s]', '', text) \n",
    "        text = text.lower() \n",
    "        text = text.strip()  \n",
    "        return text\n",
    "\n",
    "    dataset['text'] = dataset['text'].apply(clean_text)\n",
    "\n",
    "    return dataset\n",
    "\n",
    "def split_data(dataset, test_size=0.2, random_state=42):\n",
    "   \n",
    "    train_texts, test_texts, train_labels, test_labels = train_test_split(\n",
    "        dataset['text'].values, \n",
    "        dataset['polarity'].values, \n",
    "        test_size=test_size,  \n",
    "        random_state=random_state,\n",
    "        stratify=dataset['polarity']\n",
    "    )\n",
    "\n",
    "    return train_texts, test_texts, train_labels, test_labels\n",
    "\n",
    "\n",
    "filepath1 = r\"C:\\Users\\Vignesh\\Downloads\\sentiment_data2\\testdata.manual.2009.06.14.csv\"\n",
    "filepath2 = r\"C:\\Users\\Vignesh\\Downloads\\sentiment_data2\\training.1600000.processed.noemoticon.csv\"\n",
    "\n",
    "dataset = load_data(filepath1, filepath2)\n",
    "\n",
    "\n",
    "cleaned_dataset = clean_data(dataset)\n",
    "df_class_0 = cleaned_dataset[cleaned_dataset['polarity'] == 0]\n",
    "df_class_2 = cleaned_dataset[cleaned_dataset['polarity'] == 2]\n",
    "df_class_4 = cleaned_dataset[cleaned_dataset['polarity'] == 4]\n",
    "df_class_2_upsampled = resample(df_class_2, \n",
    "                                replace=True,     \n",
    "                                n_samples=max(len(df_class_0), len(df_class_4)),  \n",
    "                                random_state=42)\n",
    "  \n",
    "balanced_dataset = pd.concat([df_class_0, df_class_2_upsampled, df_class_4])\n",
    "balanced_dataset = balanced_dataset.sample(frac=1, random_state=42).reset_index(drop=True)\n",
    "print(balanced_dataset['polarity'].value_counts())\n",
    "train_texts, test_texts, train_labels, test_labels = split_data(balanced_dataset)\n",
    "\n",
    "print(len(train_texts), len(test_texts))\n",
    "print(pd.Series(train_labels).value_counts())\n",
    "print(pd.Series(test_labels).value_counts())\n"
   ]
  },
  {
   "cell_type": "markdown",
   "metadata": {},
   "source": [
    "Traning And Evaluation "
   ]
  },
  {
   "cell_type": "code",
   "execution_count": 5,
   "metadata": {},
   "outputs": [
    {
     "name": "stdout",
     "output_type": "stream",
     "text": [
      "Accuracy: 0.8658637934302419\n",
      "Classification Report:\n",
      "              precision    recall  f1-score   support\n",
      "\n",
      "           0       0.80      0.79      0.80    160035\n",
      "           2       1.00      1.00      1.00    160037\n",
      "           4       0.79      0.81      0.80    160037\n",
      "\n",
      "    accuracy                           0.87    480109\n",
      "   macro avg       0.87      0.87      0.87    480109\n",
      "weighted avg       0.87      0.87      0.87    480109\n",
      "\n"
     ]
    }
   ],
   "source": [
    "\n",
    "def train_ml_model(train_texts, train_labels):\n",
    "  \n",
    "    pipeline = Pipeline([\n",
    "        ('tfidf', TfidfVectorizer()),\n",
    "        ('clf', LogisticRegression(max_iter=1000, solver='liblinear'))\n",
    "    ])\n",
    "    pipeline.fit(train_texts, train_labels)\n",
    "    \n",
    "    return pipeline\n",
    "\n",
    "def evaluate_ml_model(model, test_texts, test_labels):\n",
    "    predicted_labels = model.predict(test_texts)\n",
    "    accuracy = accuracy_score(test_labels, predicted_labels)\n",
    "    report = classification_report(test_labels, predicted_labels)\n",
    "    \n",
    "    return accuracy, report\n",
    "model = train_ml_model(train_texts, train_labels)\n",
    "\n",
    "\n",
    "accuracy, report = evaluate_ml_model(model, test_texts, test_labels)\n",
    "print(f'Accuracy: {accuracy}')\n",
    "print('Classification Report:')\n",
    "print(report)"
   ]
  }
 ],
 "metadata": {
  "kernelspec": {
   "display_name": "Python 3",
   "language": "python",
   "name": "python3"
  },
  "language_info": {
   "codemirror_mode": {
    "name": "ipython",
    "version": 3
   },
   "file_extension": ".py",
   "mimetype": "text/x-python",
   "name": "python",
   "nbconvert_exporter": "python",
   "pygments_lexer": "ipython3",
   "version": "3.10.11"
  }
 },
 "nbformat": 4,
 "nbformat_minor": 2
}
